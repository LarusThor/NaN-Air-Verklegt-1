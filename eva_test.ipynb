{
 "cells": [
  {
   "cell_type": "code",
   "execution_count": 1,
   "metadata": {},
   "outputs": [],
   "source": [
    "from logic.employeeLL import EmployeeLL\n",
    "from model.employee_model import Employee\n",
    "from logic.destinationLL import DestinationLL\n",
    "from model.past_voyage_model import PastVoyage\n",
    "from logic.past_voyageLL import PastVoyageLL\n",
    "from logic.scheduleLL import ScheduleLL\n",
    "from logic.airplaneLL import AirplaneLL\n",
    "from datetime import datetime, date\n",
    "from logic.logic_wrapper import LogicWrapper\n",
    "\n",
    "\n",
    "logic_wrapper_ = LogicWrapper()"
   ]
  },
  {
   "cell_type": "code",
   "execution_count": 2,
   "metadata": {},
   "outputs": [
    {
     "data": {
      "text/plain": [
       "datetime.date(2023, 12, 20)"
      ]
     },
     "execution_count": 2,
     "metadata": {},
     "output_type": "execute_result"
    }
   ],
   "source": [
    "dt = date(year=2023,month=12,day=20)\n",
    "dt"
   ]
  },
  {
   "cell_type": "code",
   "execution_count": 1,
   "metadata": {},
   "outputs": [
    {
     "ename": "NameError",
     "evalue": "name 'logic_wrapper_' is not defined",
     "output_type": "error",
     "traceback": [
      "\u001b[0;31m---------------------------------------------------------------------------\u001b[0m",
      "\u001b[0;31mNameError\u001b[0m                                 Traceback (most recent call last)",
      "\u001b[1;32m/Users/evarut/Documents/GitHub/NaN-Air-Verklegt-1/eva_test.ipynb Cell 3\u001b[0m line \u001b[0;36m1\n\u001b[0;32m----> <a href='vscode-notebook-cell:/Users/evarut/Documents/GitHub/NaN-Air-Verklegt-1/eva_test.ipynb#W2sZmlsZQ%3D%3D?line=0'>1</a>\u001b[0m emps \u001b[39m=\u001b[39m logic_wrapper_\u001b[39m.\u001b[39memployee_not_working(dt)\n",
      "\u001b[0;31mNameError\u001b[0m: name 'logic_wrapper_' is not defined"
     ]
    }
   ],
   "source": [
    "emps = logic_wrapper_.employee_not_working(dt)"
   ]
  },
  {
   "cell_type": "code",
   "execution_count": 2,
   "metadata": {},
   "outputs": [
    {
     "ename": "NameError",
     "evalue": "name 'emps' is not defined",
     "output_type": "error",
     "traceback": [
      "\u001b[0;31m---------------------------------------------------------------------------\u001b[0m",
      "\u001b[0;31mNameError\u001b[0m                                 Traceback (most recent call last)",
      "\u001b[1;32m/Users/evarut/Documents/GitHub/NaN-Air-Verklegt-1/eva_test.ipynb Cell 4\u001b[0m line \u001b[0;36m1\n\u001b[0;32m----> <a href='vscode-notebook-cell:/Users/evarut/Documents/GitHub/NaN-Air-Verklegt-1/eva_test.ipynb#W3sZmlsZQ%3D%3D?line=0'>1</a>\u001b[0m [emp\u001b[39m.\u001b[39mname \u001b[39mfor\u001b[39;00m emp \u001b[39min\u001b[39;00m emps]\n",
      "\u001b[0;31mNameError\u001b[0m: name 'emps' is not defined"
     ]
    }
   ],
   "source": [
    "[emp.name for emp in emps]"
   ]
  },
  {
   "cell_type": "code",
   "execution_count": null,
   "metadata": {},
   "outputs": [],
   "source": []
  }
 ],
 "metadata": {
  "kernelspec": {
   "display_name": "Python 3",
   "language": "python",
   "name": "python3"
  },
  "language_info": {
   "codemirror_mode": {
    "name": "ipython",
    "version": 3
   },
   "file_extension": ".py",
   "mimetype": "text/x-python",
   "name": "python",
   "nbconvert_exporter": "python",
   "pygments_lexer": "ipython3",
   "version": "3.11.3"
  }
 },
 "nbformat": 4,
 "nbformat_minor": 2
}
