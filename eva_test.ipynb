{
 "cells": [
  {
   "cell_type": "code",
   "execution_count": 1,
   "metadata": {},
   "outputs": [],
   "source": [
    "from logic.airplaneLL import AirplaneLL"
   ]
  },
  {
   "cell_type": "code",
   "execution_count": 2,
   "metadata": {},
   "outputs": [],
   "source": [
    "a_ll = AirplaneLL()"
   ]
  },
  {
   "cell_type": "code",
   "execution_count": 4,
   "metadata": {},
   "outputs": [
    {
     "data": {
      "text/plain": [
       "['1',\n",
       " '2',\n",
       " '3',\n",
       " '4',\n",
       " '5',\n",
       " '6',\n",
       " '7',\n",
       " '8',\n",
       " '9',\n",
       " '10',\n",
       " '11',\n",
       " '12',\n",
       " '13',\n",
       " '14',\n",
       " '15',\n",
       " '16',\n",
       " '17',\n",
       " '18',\n",
       " '19',\n",
       " '20',\n",
       " '21',\n",
       " '22',\n",
       " '1',\n",
       " '2',\n",
       " '3',\n",
       " '4',\n",
       " '5',\n",
       " '6',\n",
       " '7',\n",
       " '8',\n",
       " '9',\n",
       " '10',\n",
       " '11',\n",
       " '12',\n",
       " '13',\n",
       " '14',\n",
       " '15',\n",
       " '16',\n",
       " '17',\n",
       " '18',\n",
       " '19',\n",
       " '20',\n",
       " '21',\n",
       " '22',\n",
       " '23',\n",
       " '24',\n",
       " '25',\n",
       " '26',\n",
       " '27',\n",
       " '28',\n",
       " '29',\n",
       " '30',\n",
       " '31',\n",
       " '32',\n",
       " '33',\n",
       " '34',\n",
       " '35',\n",
       " '36',\n",
       " '37',\n",
       " '38',\n",
       " '39',\n",
       " '40',\n",
       " '41',\n",
       " '42',\n",
       " '43',\n",
       " '44',\n",
       " '45',\n",
       " '46',\n",
       " '47',\n",
       " '48',\n",
       " '49',\n",
       " '50',\n",
       " '51',\n",
       " '52']"
      ]
     },
     "execution_count": 4,
     "metadata": {},
     "output_type": "execute_result"
    }
   ],
   "source": [
    "all_voyages = a_ll.get_airplane_usage()\n",
    "all_voyages"
   ]
  },
  {
   "cell_type": "code",
   "execution_count": 9,
   "metadata": {},
   "outputs": [
    {
     "data": {
      "text/plain": [
       "{'1': PastVoyage(flight_id='1', flight_nr=' NA031', dep_from='KEF', arr_at='LYR', departure=datetime.datetime(2023, 11, 2, 6, 21), arrival=datetime.datetime(2023, 11, 2, 10, 21), aircraft_id='TF-TYQ', captain='3009907461', copilot='2410876598', fsm='1600904199', fa1='3002688722', fa2='505942924', fa3=' N/A', fa4=' N/A', fa5=' N/A', seats_sold=' 82'),\n",
       " '2': PastVoyage(flight_id='2', flight_nr=' NA032', dep_from='LYR', arr_at='KEF', departure=datetime.datetime(2023, 11, 2, 11, 21), arrival=datetime.datetime(2023, 11, 2, 15, 21), aircraft_id='TF-TYQ', captain='3009907461', copilot='2410876598', fsm='1600904199', fa1='3002688722', fa2='505942924', fa3=' N/A', fa4=' N/A', fa5=' N/A', seats_sold=' 80'),\n",
       " '3': PastVoyage(flight_id='3', flight_nr=' NA031', dep_from='KEF', arr_at='LYR', departure=datetime.datetime(2023, 11, 4, 5, 32), arrival=datetime.datetime(2023, 11, 4, 9, 32), aircraft_id='TF-XZR', captain='2910858778', copilot='2211658134', fsm='303758167', fa1='3003962187', fa2='1110732819', fa3=' 1102674565', fa4=' N/A', fa5=' N/A', seats_sold=' 70'),\n",
       " '4': PastVoyage(flight_id='4', flight_nr=' NA032', dep_from='LYR', arr_at='KEF', departure=datetime.datetime(2023, 11, 4, 10, 32), arrival=datetime.datetime(2023, 11, 4, 14, 32), aircraft_id='TF-XZR', captain='2910858778', copilot='2211658134', fsm='303758167', fa1='3003962187', fa2='1110732819', fa3=' 1426596253', fa4=' N/A', fa5=' N/A', seats_sold=' 80'),\n",
       " '5': PastVoyage(flight_id='5', flight_nr=' NA031', dep_from='KEF', arr_at='LYR', departure=datetime.datetime(2023, 11, 6, 5, 39), arrival=datetime.datetime(2023, 11, 6, 9, 39), aircraft_id='TF-XZR', captain='2910858778', copilot='2211658134', fsm='303758167', fa1='1311772221', fa2='2701886957', fa3=' N/A', fa4=' N/A', fa5=' N/A', seats_sold=' 70'),\n",
       " '6': PastVoyage(flight_id='6', flight_nr=' NA032', dep_from='LYR', arr_at='KEF', departure=datetime.datetime(2023, 11, 6, 10, 39), arrival=datetime.datetime(2023, 11, 6, 14, 39), aircraft_id='TF-XZR', captain='2910858778', copilot='2211658134', fsm='303758167', fa1='1311772221', fa2='2701886957', fa3=' N/A', fa4=' N/A', fa5=' N/A', seats_sold=' 57'),\n",
       " '7': PastVoyage(flight_id='7', flight_nr=' NA031', dep_from='KEF', arr_at='LYR', departure=datetime.datetime(2023, 11, 8, 6, 35), arrival=datetime.datetime(2023, 11, 8, 10, 35), aircraft_id='TF-IZE', captain='2706838569', copilot='2410876598', fsm='1600904199', fa1='3003962187', fa2='2801645554', fa3=' N/A', fa4=' N/A', fa5=' N/A', seats_sold=' 65'),\n",
       " '8': PastVoyage(flight_id='8', flight_nr=' NA032', dep_from='LYR', arr_at='KEF', departure=datetime.datetime(2023, 11, 8, 11, 35), arrival=datetime.datetime(2023, 11, 8, 15, 35), aircraft_id='TF-IZE', captain='2706838569', copilot='2410876598', fsm='1600904199', fa1='3003962187', fa2='2801645554', fa3=' N/A', fa4=' N/A', fa5=' N/A', seats_sold=' 66'),\n",
       " '9': PastVoyage(flight_id='9', flight_nr=' NA031', dep_from='KEF', arr_at='LYR', departure=datetime.datetime(2023, 11, 10, 6, 18), arrival=datetime.datetime(2023, 11, 10, 10, 18), aircraft_id='TF-EPG', captain='2706838569', copilot='2410876598', fsm='1600904199', fa1='2509913418', fa2='1701728949', fa3=' N/A', fa4=' N/A', fa5=' N/A', seats_sold=' 73'),\n",
       " '10': PastVoyage(flight_id='10', flight_nr=' NA032', dep_from='LYR', arr_at='KEF', departure=datetime.datetime(2023, 11, 10, 11, 18), arrival=datetime.datetime(2023, 11, 10, 15, 18), aircraft_id='TF-EPG', captain='2706838569', copilot='2410876598', fsm='1600904199', fa1='2509913418', fa2='1701728949', fa3=' N/A', fa4=' N/A', fa5=' N/A', seats_sold=' 54'),\n",
       " '11': PastVoyage(flight_id='11', flight_nr=' NA031', dep_from='KEF', arr_at='LYR', departure=datetime.datetime(2023, 11, 12, 6, 20), arrival=datetime.datetime(2023, 11, 12, 10, 20), aircraft_id='TF-LNQ', captain='2209955782', copilot='2504939263', fsm='2200763823', fa1='1103647756', fa2='1501681497', fa3=' N/A', fa4=' N/A', fa5=' N/A', seats_sold=' 47'),\n",
       " '12': PastVoyage(flight_id='12', flight_nr=' NA032', dep_from='LYR', arr_at='KEF', departure=datetime.datetime(2023, 11, 12, 11, 20), arrival=datetime.datetime(2023, 11, 12, 15, 20), aircraft_id='TF-LNQ', captain='2209955782', copilot='2504939263', fsm='2200763823', fa1='1103647756', fa2='1501681497', fa3=' N/A', fa4=' N/A', fa5=' N/A', seats_sold=' 70'),\n",
       " '13': PastVoyage(flight_id='13', flight_nr=' NA031', dep_from='KEF', arr_at='LYR', departure=datetime.datetime(2023, 11, 14, 5, 18), arrival=datetime.datetime(2023, 11, 14, 9, 18), aircraft_id='TF-IZE', captain='2706838569', copilot='2410876598', fsm='1308941169', fa1='2807755841', fa2='2801645554', fa3=' N/A', fa4=' N/A', fa5=' N/A', seats_sold=' 68'),\n",
       " '14': PastVoyage(flight_id='14', flight_nr=' NA032', dep_from='LYR', arr_at='KEF', departure=datetime.datetime(2023, 11, 14, 10, 18), arrival=datetime.datetime(2023, 11, 14, 14, 18), aircraft_id='TF-IZE', captain='2706838569', copilot='2410876598', fsm='1308941169', fa1='2807755841', fa2='2801645554', fa3=' N/A', fa4=' N/A', fa5=' N/A', seats_sold=' 64'),\n",
       " '15': PastVoyage(flight_id='15', flight_nr=' NA031', dep_from='KEF', arr_at='LYR', departure=datetime.datetime(2023, 11, 16, 6, 21), arrival=datetime.datetime(2023, 11, 16, 10, 21), aircraft_id='TF-EPG', captain='3009907461', copilot='2410876598', fsm='1405853585', fa1='409907212', fa2='505942924', fa3=' N/A', fa4=' N/A', fa5=' N/A', seats_sold=' 49'),\n",
       " '16': PastVoyage(flight_id='16', flight_nr=' NA032', dep_from='LYR', arr_at='KEF', departure=datetime.datetime(2023, 11, 16, 11, 21), arrival=datetime.datetime(2023, 11, 16, 15, 21), aircraft_id='TF-EPG', captain='3009907461', copilot='2410876598', fsm='1405853585', fa1='409907212', fa2='505942924', fa3=' N/A', fa4=' N/A', fa5=' N/A', seats_sold=' 55'),\n",
       " '17': PastVoyage(flight_id='17', flight_nr=' NA031', dep_from='KEF', arr_at='LYR', departure=datetime.datetime(2023, 11, 18, 5, 25), arrival=datetime.datetime(2023, 11, 18, 9, 25), aircraft_id='TF-XZM', captain='2910858778', copilot='1900769521', fsm='909862878', fa1='3003962187', fa2='1811813379', fa3=' N/A', fa4=' N/A', fa5=' N/A', seats_sold=' 43'),\n",
       " '18': PastVoyage(flight_id='18', flight_nr=' NA032', dep_from='LYR', arr_at='KEF', departure=datetime.datetime(2023, 11, 18, 10, 25), arrival=datetime.datetime(2023, 11, 18, 14, 25), aircraft_id='TF-XZM', captain='2910858778', copilot='1900769521', fsm='909862878', fa1='3003962187', fa2='1811813379', fa3=' N/A', fa4=' N/A', fa5=' N/A', seats_sold=' 63'),\n",
       " '19': PastVoyage(flight_id='19', flight_nr=' NA031', dep_from='KEF', arr_at='LYR', departure=datetime.datetime(2023, 11, 20, 6, 40), arrival=datetime.datetime(2023, 11, 20, 10, 40), aircraft_id='TF-LNQ', captain='2209955782', copilot='1900769521', fsm='1405853585', fa1='1103912131', fa2='2807755841', fa3=' N/A', fa4=' N/A', fa5=' N/A', seats_sold=' 65'),\n",
       " '20': PastVoyage(flight_id='20', flight_nr=' NA032', dep_from='LYR', arr_at='KEF', departure=datetime.datetime(2023, 11, 20, 11, 40), arrival=datetime.datetime(2023, 11, 20, 15, 40), aircraft_id='TF-LNQ', captain='2209955782', copilot='1900769521', fsm='1405853585', fa1='1103912131', fa2='2807755841', fa3=' N/A', fa4=' N/A', fa5=' N/A', seats_sold=' 58'),\n",
       " '21': PastVoyage(flight_id='21', flight_nr=' NA031', dep_from='KEF', arr_at='LYR', departure=datetime.datetime(2023, 11, 22, 6, 23), arrival=datetime.datetime(2023, 11, 22, 10, 23), aircraft_id='TF-XZR', captain='2910858778', copilot='2504939263', fsm='1600904199', fa1='2807755841', fa2='1701728949', fa3=' N/A', fa4=' N/A', fa5=' N/A', seats_sold=' 79'),\n",
       " '22': PastVoyage(flight_id='22', flight_nr=' NA032', dep_from='LYR', arr_at='KEF', departure=datetime.datetime(2023, 11, 22, 11, 23), arrival=datetime.datetime(2023, 11, 22, 15, 23), aircraft_id='TF-XZR', captain='2910858778', copilot='2504939263', fsm='1600904199', fa1='2807755841', fa2='1701728949', fa3=' N/A', fa4=' N/A', fa5=' N/A', seats_sold=' 80'),\n",
       " '23': PastVoyage(flight_id='23', flight_nr=' NA031', dep_from='KEF', arr_at='LYR', departure=datetime.datetime(2023, 11, 24, 6, 37), arrival=datetime.datetime(2023, 11, 24, 10, 37), aircraft_id='TF-XUP', captain='2706838569', copilot='2410876598', fsm='2200763823', fa1='409907212', fa2='3003962187', fa3=' N/A', fa4=' N/A', fa5=' N/A', seats_sold=' 77'),\n",
       " '24': PastVoyage(flight_id='24', flight_nr=' NA032', dep_from='LYR', arr_at='KEF', departure=datetime.datetime(2023, 11, 24, 11, 37), arrival=datetime.datetime(2023, 11, 24, 15, 37), aircraft_id='TF-XUP', captain='2706838569', copilot='2410876598', fsm='2200763823', fa1='409907212', fa2='3003962187', fa3=' N/A', fa4=' N/A', fa5=' N/A', seats_sold=' 71'),\n",
       " '25': PastVoyage(flight_id='25', flight_nr=' NA031', dep_from='KEF', arr_at='LYR', departure=datetime.datetime(2023, 11, 26, 6, 25), arrival=datetime.datetime(2023, 11, 26, 10, 25), aircraft_id='TF-TYQ', captain='2706838569', copilot='2410876598', fsm='1811931544', fa1='2801645554', fa2='1701728949', fa3=' N/A', fa4=' N/A', fa5=' N/A', seats_sold=' 63'),\n",
       " '26': PastVoyage(flight_id='26', flight_nr=' NA032', dep_from='LYR', arr_at='KEF', departure=datetime.datetime(2023, 11, 26, 11, 25), arrival=datetime.datetime(2023, 11, 26, 15, 25), aircraft_id='TF-TYQ', captain='2706838569', copilot='2410876598', fsm='1811931544', fa1='2801645554', fa2='1701728949', fa3=' N/A', fa4=' N/A', fa5=' N/A', seats_sold=' 60'),\n",
       " '27': PastVoyage(flight_id='27', flight_nr=' NA031', dep_from='KEF', arr_at='LYR', departure=datetime.datetime(2023, 11, 28, 6, 25), arrival=datetime.datetime(2023, 11, 28, 10, 25), aircraft_id='TF-LNQ', captain='2907675667', copilot='2211658134', fsm='1405853585', fa1='1103647756', fa2='1103912131', fa3=' N/A', fa4=' N/A', fa5=' N/A', seats_sold=' 59'),\n",
       " '28': PastVoyage(flight_id='28', flight_nr=' NA032', dep_from='LYR', arr_at='KEF', departure=datetime.datetime(2023, 11, 28, 11, 25), arrival=datetime.datetime(2023, 11, 28, 15, 25), aircraft_id='TF-LNQ', captain='2907675667', copilot='2211658134', fsm='1405853585', fa1='1103647756', fa2='1103912131', fa3=' N/A', fa4=' N/A', fa5=' N/A', seats_sold=' 84'),\n",
       " '29': PastVoyage(flight_id='29', flight_nr=' NA031', dep_from='KEF', arr_at='LYR', departure=datetime.datetime(2023, 11, 30, 5, 23), arrival=datetime.datetime(2023, 11, 30, 9, 23), aircraft_id='TF-IZE', captain='2706838569', copilot='2410876598', fsm='909862878', fa1='1501681497', fa2='2807755841', fa3=' N/A', fa4=' N/A', fa5=' N/A', seats_sold=' 40'),\n",
       " '30': PastVoyage(flight_id='30', flight_nr=' NA032', dep_from='LYR', arr_at='KEF', departure=datetime.datetime(2023, 11, 30, 10, 23), arrival=datetime.datetime(2023, 11, 30, 14, 23), aircraft_id='TF-IZE', captain='2706838569', copilot='2410876598', fsm='909862878', fa1='1501681497', fa2='2807755841', fa3=' N/A', fa4=' N/A', fa5=' N/A', seats_sold=' 57'),\n",
       " '31': PastVoyage(flight_id='31', flight_nr=' NA021', dep_from='KEF', arr_at='GOH', departure=datetime.datetime(2023, 11, 8, 10, 31), arrival=datetime.datetime(2023, 11, 8, 13, 31), aircraft_id='TF-XZM', captain='2907675667', copilot='1900769521', fsm='1308941169', fa1='1811813379', fa2='2701886957', fa3=' N/A', fa4=' N/A', fa5=' N/A', seats_sold=' 87'),\n",
       " '32': PastVoyage(flight_id='32', flight_nr=' NA022', dep_from='GOH', arr_at='KEF', departure=datetime.datetime(2023, 11, 8, 14, 31), arrival=datetime.datetime(2023, 11, 8, 17, 31), aircraft_id='TF-XZM', captain='2907675667', copilot='1900769521', fsm='1308941169', fa1='1811813379', fa2='2701886957', fa3=' N/A', fa4=' N/A', fa5=' N/A', seats_sold=' 65'),\n",
       " '33': PastVoyage(flight_id='33', flight_nr=' NA021', dep_from='KEF', arr_at='GOH', departure=datetime.datetime(2023, 11, 12, 10, 45), arrival=datetime.datetime(2023, 11, 12, 13, 45), aircraft_id='TF-XZR', captain='2907675667', copilot='2211658134', fsm='303758167', fa1='1811813379', fa2='1110732819', fa3=' N/A', fa4=' N/A', fa5=' N/A', seats_sold=' 62'),\n",
       " '34': PastVoyage(flight_id='34', flight_nr=' NA022', dep_from='GOH', arr_at='KEF', departure=datetime.datetime(2023, 11, 12, 14, 45), arrival=datetime.datetime(2023, 11, 12, 17, 45), aircraft_id='TF-XZR', captain='2907675667', copilot='2211658134', fsm='303758167', fa1='1811813379', fa2='1110732819', fa3=' N/A', fa4=' N/A', fa5=' N/A', seats_sold=' 87'),\n",
       " '35': PastVoyage(flight_id='35', flight_nr=' NA021', dep_from='KEF', arr_at='GOH', departure=datetime.datetime(2023, 11, 20, 10, 24), arrival=datetime.datetime(2023, 11, 20, 13, 24), aircraft_id='TF-XUP', captain='2706838569', copilot='2410876598', fsm='303758167', fa1='505942924', fa2='2602806942', fa3=' N/A', fa4=' N/A', fa5=' N/A', seats_sold=' 73'),\n",
       " '36': PastVoyage(flight_id='36', flight_nr=' NA022', dep_from='GOH', arr_at='KEF', departure=datetime.datetime(2023, 11, 20, 14, 24), arrival=datetime.datetime(2023, 11, 20, 17, 24), aircraft_id='TF-XUP', captain='2706838569', copilot='2410876598', fsm='303758167', fa1='505942924', fa2='2602806942', fa3=' N/A', fa4=' N/A', fa5=' N/A', seats_sold=' 65'),\n",
       " '37': PastVoyage(flight_id='37', flight_nr=' NA021', dep_from='KEF', arr_at='GOH', departure=datetime.datetime(2023, 11, 24, 10, 43), arrival=datetime.datetime(2023, 11, 24, 13, 43), aircraft_id='TF-XZR', captain='2209955782', copilot='2211658134', fsm='909862878', fa1='3003962187', fa2='2602806942', fa3=' N/A', fa4=' N/A', fa5=' N/A', seats_sold=' 76'),\n",
       " '38': PastVoyage(flight_id='38', flight_nr=' NA022', dep_from='GOH', arr_at='KEF', departure=datetime.datetime(2023, 11, 24, 14, 43), arrival=datetime.datetime(2023, 11, 24, 17, 43), aircraft_id='TF-XZR', captain='2209955782', copilot='2211658134', fsm='909862878', fa1='3003962187', fa2='2602806942', fa3=' N/A', fa4=' N/A', fa5=' N/A', seats_sold=' 64'),\n",
       " '39': PastVoyage(flight_id='39', flight_nr=' NA021', dep_from='KEF', arr_at='GOH', departure=datetime.datetime(2023, 11, 28, 9, 18), arrival=datetime.datetime(2023, 11, 28, 12, 18), aircraft_id='TF-EPG', captain='2706838569', copilot='2410876598', fsm='909862878', fa1='1501681497', fa2='1701728949', fa3=' N/A', fa4=' N/A', fa5=' N/A', seats_sold=' 87'),\n",
       " '40': PastVoyage(flight_id='40', flight_nr=' NA022', dep_from='GOH', arr_at='KEF', departure=datetime.datetime(2023, 11, 28, 13, 18), arrival=datetime.datetime(2023, 11, 28, 16, 18), aircraft_id='TF-EPG', captain='2706838569', copilot='2410876598', fsm='909862878', fa1='1501681497', fa2='1701728949', fa3=' N/A', fa4=' N/A', fa5=' N/A', seats_sold=' 69'),\n",
       " '41': PastVoyage(flight_id='41', flight_nr=' NA041', dep_from='KEF', arr_at='KUS', departure=datetime.datetime(2023, 11, 6, 14, 31), arrival=datetime.datetime(2023, 11, 6, 16, 31), aircraft_id='TF-UVR', captain='1309797899', copilot='2500812671', fsm='2200763823', fa1='1103912131', fa2='2801645554', fa3=' N/A', fa4=' N/A', fa5=' N/A', seats_sold=' 92'),\n",
       " '42': PastVoyage(flight_id='42', flight_nr=' NA042', dep_from='KUS', arr_at='KEF', departure=datetime.datetime(2023, 11, 6, 17, 31), arrival=datetime.datetime(2023, 11, 6, 19, 31), aircraft_id='TF-UVR', captain='1309797899', copilot='2500812671', fsm='2200763823', fa1='1103912131', fa2='2801645554', fa3=' N/A', fa4=' N/A', fa5=' N/A', seats_sold=' 68'),\n",
       " '43': PastVoyage(flight_id='43', flight_nr=' NA041', dep_from='KEF', arr_at='KUS', departure=datetime.datetime(2023, 11, 30, 13, 22), arrival=datetime.datetime(2023, 11, 30, 15, 22), aircraft_id='TF-XZM', captain='2910858778', copilot='2211658134', fsm='2200763823', fa1='1110732819', fa2='2801645554', fa3=' N/A', fa4=' N/A', fa5=' N/A', seats_sold=' 78'),\n",
       " '44': PastVoyage(flight_id='44', flight_nr=' NA042', dep_from='KUS', arr_at='KEF', departure=datetime.datetime(2023, 11, 30, 16, 22), arrival=datetime.datetime(2023, 11, 30, 18, 22), aircraft_id='TF-XZM', captain='2910858778', copilot='2211658134', fsm='2200763823', fa1='1110732819', fa2='2801645554', fa3=' N/A', fa4=' N/A', fa5=' N/A', seats_sold=' 83'),\n",
       " '45': PastVoyage(flight_id='45', flight_nr=' NA051', dep_from='KEF', arr_at='FAE', departure=datetime.datetime(2023, 11, 18, 0, 0), arrival=datetime.datetime(2023, 11, 18, 1, 0), aircraft_id='TF-LNQ', captain='2209955782', copilot='2504939263', fsm='409858797', fa1='1103912131', fa2='1103912131', fa3=' N/A', fa4=' N/A', fa5=' N/A', seats_sold=' 59'),\n",
       " '46': PastVoyage(flight_id='46', flight_nr=' NA052', dep_from='FAE', arr_at='KEF', departure=datetime.datetime(2023, 11, 18, 2, 0), arrival=datetime.datetime(2023, 11, 18, 3, 0), aircraft_id='TF-LNQ', captain='2209955782', copilot='2504939263', fsm='409858797', fa1='1103912131', fa2='1103912131', fa3=' N/A', fa4=' N/A', fa5=' N/A', seats_sold=' 66'),\n",
       " '47': PastVoyage(flight_id='47', flight_nr=' NA051', dep_from='KEF', arr_at='FAE', departure=datetime.datetime(2023, 11, 30, 0, 0), arrival=datetime.datetime(2023, 11, 30, 1, 0), aircraft_id='TF-UVR', captain='1309797899', copilot='1309927223', fsm='1600904199', fa1='1311772221', fa2='1110732819', fa3=' N/A', fa4=' N/A', fa5=' N/A', seats_sold='80'),\n",
       " '48': PastVoyage(flight_id='48', flight_nr=' NA052', dep_from='FAE', arr_at='KEF', departure=datetime.datetime(2023, 11, 30, 2, 0), arrival=datetime.datetime(2023, 11, 30, 3, 0), aircraft_id='TF-UVR', captain='1309797899', copilot='1309927223', fsm='1600904199', fa1='1311772221', fa2='1110732819', fa3=' N/A', fa4=' N/A', fa5=' N/A', seats_sold=' 76'),\n",
       " '49': PastVoyage(flight_id='49', flight_nr=' NA061', dep_from='KEF', arr_at='LWK', departure=datetime.datetime(2023, 11, 6, 0, 0), arrival=datetime.datetime(2023, 11, 6, 2, 0), aircraft_id='TF-TYQ', captain='3009907461', copilot='2410876598', fsm='1405853585', fa1='2602806942', fa2='2509913418', fa3=' N/A', fa4=' N/A', fa5=' N/A', seats_sold=' 82'),\n",
       " '50': PastVoyage(flight_id='50', flight_nr=' NA062', dep_from='LWK', arr_at='KEF', departure=datetime.datetime(2023, 11, 6, 3, 0), arrival=datetime.datetime(2023, 11, 6, 5, 0), aircraft_id='TF-TYQ', captain='3009907461', copilot='2410876598', fsm='1405853585', fa1='2602806942', fa2='2509913418', fa3=' N/A', fa4=' N/A', fa5=' N/A', seats_sold=' 68'),\n",
       " '51': PastVoyage(flight_id='51', flight_nr=' NA061', dep_from='KEF', arr_at='LWK', departure=datetime.datetime(2023, 11, 24, 0, 0), arrival=datetime.datetime(2023, 11, 24, 2, 0), aircraft_id='TF-PGK', captain='2907675667', copilot='1900769521', fsm='1811931544', fa1='1107951952', fa2='2509913418', fa3=' N/A', fa4=' N/A', fa5=' N/A', seats_sold=' 74'),\n",
       " '52': PastVoyage(flight_id='52', flight_nr=' NA062', dep_from='LWK', arr_at='KEF', departure=datetime.datetime(2023, 11, 24, 3, 0), arrival=datetime.datetime(2023, 11, 24, 5, 0), aircraft_id='TF-PGK', captain='2907675667', copilot='1900769521', fsm='1811931544', fa1='1107951952', fa2='2509913418', fa3=' N/A', fa4=' N/A', fa5=' N/A', seats_sold=' 64')}"
      ]
     },
     "execution_count": 9,
     "metadata": {},
     "output_type": "execute_result"
    }
   ],
   "source": [
    "a_ll.past_voyage_list"
   ]
  },
  {
   "cell_type": "code",
   "execution_count": 10,
   "metadata": {},
   "outputs": [
    {
     "data": {
      "text/plain": [
       "(22, 52)"
      ]
     },
     "execution_count": 10,
     "metadata": {},
     "output_type": "execute_result"
    }
   ],
   "source": [
    "len(a_ll.upcoming_voyage_list), len(a_ll.past_voyage_list)"
   ]
  },
  {
   "cell_type": "code",
   "execution_count": 11,
   "metadata": {},
   "outputs": [],
   "source": [
    "all_voyages = a_ll.upcoming_voyage_list | a_ll.past_voyage_list"
   ]
  },
  {
   "cell_type": "code",
   "execution_count": 12,
   "metadata": {},
   "outputs": [
    {
     "data": {
      "text/plain": [
       "{'1': PastVoyage(flight_id='1', flight_nr=' NA031', dep_from='KEF', arr_at='LYR', departure=datetime.datetime(2023, 11, 2, 6, 21), arrival=datetime.datetime(2023, 11, 2, 10, 21), aircraft_id='TF-TYQ', captain='3009907461', copilot='2410876598', fsm='1600904199', fa1='3002688722', fa2='505942924', fa3=' N/A', fa4=' N/A', fa5=' N/A', seats_sold=' 82'),\n",
       " '2': PastVoyage(flight_id='2', flight_nr=' NA032', dep_from='LYR', arr_at='KEF', departure=datetime.datetime(2023, 11, 2, 11, 21), arrival=datetime.datetime(2023, 11, 2, 15, 21), aircraft_id='TF-TYQ', captain='3009907461', copilot='2410876598', fsm='1600904199', fa1='3002688722', fa2='505942924', fa3=' N/A', fa4=' N/A', fa5=' N/A', seats_sold=' 80'),\n",
       " '3': PastVoyage(flight_id='3', flight_nr=' NA031', dep_from='KEF', arr_at='LYR', departure=datetime.datetime(2023, 11, 4, 5, 32), arrival=datetime.datetime(2023, 11, 4, 9, 32), aircraft_id='TF-XZR', captain='2910858778', copilot='2211658134', fsm='303758167', fa1='3003962187', fa2='1110732819', fa3=' 1102674565', fa4=' N/A', fa5=' N/A', seats_sold=' 70'),\n",
       " '4': PastVoyage(flight_id='4', flight_nr=' NA032', dep_from='LYR', arr_at='KEF', departure=datetime.datetime(2023, 11, 4, 10, 32), arrival=datetime.datetime(2023, 11, 4, 14, 32), aircraft_id='TF-XZR', captain='2910858778', copilot='2211658134', fsm='303758167', fa1='3003962187', fa2='1110732819', fa3=' 1426596253', fa4=' N/A', fa5=' N/A', seats_sold=' 80'),\n",
       " '5': PastVoyage(flight_id='5', flight_nr=' NA031', dep_from='KEF', arr_at='LYR', departure=datetime.datetime(2023, 11, 6, 5, 39), arrival=datetime.datetime(2023, 11, 6, 9, 39), aircraft_id='TF-XZR', captain='2910858778', copilot='2211658134', fsm='303758167', fa1='1311772221', fa2='2701886957', fa3=' N/A', fa4=' N/A', fa5=' N/A', seats_sold=' 70'),\n",
       " '6': PastVoyage(flight_id='6', flight_nr=' NA032', dep_from='LYR', arr_at='KEF', departure=datetime.datetime(2023, 11, 6, 10, 39), arrival=datetime.datetime(2023, 11, 6, 14, 39), aircraft_id='TF-XZR', captain='2910858778', copilot='2211658134', fsm='303758167', fa1='1311772221', fa2='2701886957', fa3=' N/A', fa4=' N/A', fa5=' N/A', seats_sold=' 57'),\n",
       " '7': PastVoyage(flight_id='7', flight_nr=' NA031', dep_from='KEF', arr_at='LYR', departure=datetime.datetime(2023, 11, 8, 6, 35), arrival=datetime.datetime(2023, 11, 8, 10, 35), aircraft_id='TF-IZE', captain='2706838569', copilot='2410876598', fsm='1600904199', fa1='3003962187', fa2='2801645554', fa3=' N/A', fa4=' N/A', fa5=' N/A', seats_sold=' 65'),\n",
       " '8': PastVoyage(flight_id='8', flight_nr=' NA032', dep_from='LYR', arr_at='KEF', departure=datetime.datetime(2023, 11, 8, 11, 35), arrival=datetime.datetime(2023, 11, 8, 15, 35), aircraft_id='TF-IZE', captain='2706838569', copilot='2410876598', fsm='1600904199', fa1='3003962187', fa2='2801645554', fa3=' N/A', fa4=' N/A', fa5=' N/A', seats_sold=' 66'),\n",
       " '9': PastVoyage(flight_id='9', flight_nr=' NA031', dep_from='KEF', arr_at='LYR', departure=datetime.datetime(2023, 11, 10, 6, 18), arrival=datetime.datetime(2023, 11, 10, 10, 18), aircraft_id='TF-EPG', captain='2706838569', copilot='2410876598', fsm='1600904199', fa1='2509913418', fa2='1701728949', fa3=' N/A', fa4=' N/A', fa5=' N/A', seats_sold=' 73'),\n",
       " '10': PastVoyage(flight_id='10', flight_nr=' NA032', dep_from='LYR', arr_at='KEF', departure=datetime.datetime(2023, 11, 10, 11, 18), arrival=datetime.datetime(2023, 11, 10, 15, 18), aircraft_id='TF-EPG', captain='2706838569', copilot='2410876598', fsm='1600904199', fa1='2509913418', fa2='1701728949', fa3=' N/A', fa4=' N/A', fa5=' N/A', seats_sold=' 54'),\n",
       " '11': PastVoyage(flight_id='11', flight_nr=' NA031', dep_from='KEF', arr_at='LYR', departure=datetime.datetime(2023, 11, 12, 6, 20), arrival=datetime.datetime(2023, 11, 12, 10, 20), aircraft_id='TF-LNQ', captain='2209955782', copilot='2504939263', fsm='2200763823', fa1='1103647756', fa2='1501681497', fa3=' N/A', fa4=' N/A', fa5=' N/A', seats_sold=' 47'),\n",
       " '12': PastVoyage(flight_id='12', flight_nr=' NA032', dep_from='LYR', arr_at='KEF', departure=datetime.datetime(2023, 11, 12, 11, 20), arrival=datetime.datetime(2023, 11, 12, 15, 20), aircraft_id='TF-LNQ', captain='2209955782', copilot='2504939263', fsm='2200763823', fa1='1103647756', fa2='1501681497', fa3=' N/A', fa4=' N/A', fa5=' N/A', seats_sold=' 70'),\n",
       " '13': PastVoyage(flight_id='13', flight_nr=' NA031', dep_from='KEF', arr_at='LYR', departure=datetime.datetime(2023, 11, 14, 5, 18), arrival=datetime.datetime(2023, 11, 14, 9, 18), aircraft_id='TF-IZE', captain='2706838569', copilot='2410876598', fsm='1308941169', fa1='2807755841', fa2='2801645554', fa3=' N/A', fa4=' N/A', fa5=' N/A', seats_sold=' 68'),\n",
       " '14': PastVoyage(flight_id='14', flight_nr=' NA032', dep_from='LYR', arr_at='KEF', departure=datetime.datetime(2023, 11, 14, 10, 18), arrival=datetime.datetime(2023, 11, 14, 14, 18), aircraft_id='TF-IZE', captain='2706838569', copilot='2410876598', fsm='1308941169', fa1='2807755841', fa2='2801645554', fa3=' N/A', fa4=' N/A', fa5=' N/A', seats_sold=' 64'),\n",
       " '15': PastVoyage(flight_id='15', flight_nr=' NA031', dep_from='KEF', arr_at='LYR', departure=datetime.datetime(2023, 11, 16, 6, 21), arrival=datetime.datetime(2023, 11, 16, 10, 21), aircraft_id='TF-EPG', captain='3009907461', copilot='2410876598', fsm='1405853585', fa1='409907212', fa2='505942924', fa3=' N/A', fa4=' N/A', fa5=' N/A', seats_sold=' 49'),\n",
       " '16': PastVoyage(flight_id='16', flight_nr=' NA032', dep_from='LYR', arr_at='KEF', departure=datetime.datetime(2023, 11, 16, 11, 21), arrival=datetime.datetime(2023, 11, 16, 15, 21), aircraft_id='TF-EPG', captain='3009907461', copilot='2410876598', fsm='1405853585', fa1='409907212', fa2='505942924', fa3=' N/A', fa4=' N/A', fa5=' N/A', seats_sold=' 55'),\n",
       " '17': PastVoyage(flight_id='17', flight_nr=' NA031', dep_from='KEF', arr_at='LYR', departure=datetime.datetime(2023, 11, 18, 5, 25), arrival=datetime.datetime(2023, 11, 18, 9, 25), aircraft_id='TF-XZM', captain='2910858778', copilot='1900769521', fsm='909862878', fa1='3003962187', fa2='1811813379', fa3=' N/A', fa4=' N/A', fa5=' N/A', seats_sold=' 43'),\n",
       " '18': PastVoyage(flight_id='18', flight_nr=' NA032', dep_from='LYR', arr_at='KEF', departure=datetime.datetime(2023, 11, 18, 10, 25), arrival=datetime.datetime(2023, 11, 18, 14, 25), aircraft_id='TF-XZM', captain='2910858778', copilot='1900769521', fsm='909862878', fa1='3003962187', fa2='1811813379', fa3=' N/A', fa4=' N/A', fa5=' N/A', seats_sold=' 63'),\n",
       " '19': PastVoyage(flight_id='19', flight_nr=' NA031', dep_from='KEF', arr_at='LYR', departure=datetime.datetime(2023, 11, 20, 6, 40), arrival=datetime.datetime(2023, 11, 20, 10, 40), aircraft_id='TF-LNQ', captain='2209955782', copilot='1900769521', fsm='1405853585', fa1='1103912131', fa2='2807755841', fa3=' N/A', fa4=' N/A', fa5=' N/A', seats_sold=' 65'),\n",
       " '20': PastVoyage(flight_id='20', flight_nr=' NA032', dep_from='LYR', arr_at='KEF', departure=datetime.datetime(2023, 11, 20, 11, 40), arrival=datetime.datetime(2023, 11, 20, 15, 40), aircraft_id='TF-LNQ', captain='2209955782', copilot='1900769521', fsm='1405853585', fa1='1103912131', fa2='2807755841', fa3=' N/A', fa4=' N/A', fa5=' N/A', seats_sold=' 58'),\n",
       " '21': PastVoyage(flight_id='21', flight_nr=' NA031', dep_from='KEF', arr_at='LYR', departure=datetime.datetime(2023, 11, 22, 6, 23), arrival=datetime.datetime(2023, 11, 22, 10, 23), aircraft_id='TF-XZR', captain='2910858778', copilot='2504939263', fsm='1600904199', fa1='2807755841', fa2='1701728949', fa3=' N/A', fa4=' N/A', fa5=' N/A', seats_sold=' 79'),\n",
       " '22': PastVoyage(flight_id='22', flight_nr=' NA032', dep_from='LYR', arr_at='KEF', departure=datetime.datetime(2023, 11, 22, 11, 23), arrival=datetime.datetime(2023, 11, 22, 15, 23), aircraft_id='TF-XZR', captain='2910858778', copilot='2504939263', fsm='1600904199', fa1='2807755841', fa2='1701728949', fa3=' N/A', fa4=' N/A', fa5=' N/A', seats_sold=' 80'),\n",
       " '23': PastVoyage(flight_id='23', flight_nr=' NA031', dep_from='KEF', arr_at='LYR', departure=datetime.datetime(2023, 11, 24, 6, 37), arrival=datetime.datetime(2023, 11, 24, 10, 37), aircraft_id='TF-XUP', captain='2706838569', copilot='2410876598', fsm='2200763823', fa1='409907212', fa2='3003962187', fa3=' N/A', fa4=' N/A', fa5=' N/A', seats_sold=' 77'),\n",
       " '24': PastVoyage(flight_id='24', flight_nr=' NA032', dep_from='LYR', arr_at='KEF', departure=datetime.datetime(2023, 11, 24, 11, 37), arrival=datetime.datetime(2023, 11, 24, 15, 37), aircraft_id='TF-XUP', captain='2706838569', copilot='2410876598', fsm='2200763823', fa1='409907212', fa2='3003962187', fa3=' N/A', fa4=' N/A', fa5=' N/A', seats_sold=' 71'),\n",
       " '25': PastVoyage(flight_id='25', flight_nr=' NA031', dep_from='KEF', arr_at='LYR', departure=datetime.datetime(2023, 11, 26, 6, 25), arrival=datetime.datetime(2023, 11, 26, 10, 25), aircraft_id='TF-TYQ', captain='2706838569', copilot='2410876598', fsm='1811931544', fa1='2801645554', fa2='1701728949', fa3=' N/A', fa4=' N/A', fa5=' N/A', seats_sold=' 63'),\n",
       " '26': PastVoyage(flight_id='26', flight_nr=' NA032', dep_from='LYR', arr_at='KEF', departure=datetime.datetime(2023, 11, 26, 11, 25), arrival=datetime.datetime(2023, 11, 26, 15, 25), aircraft_id='TF-TYQ', captain='2706838569', copilot='2410876598', fsm='1811931544', fa1='2801645554', fa2='1701728949', fa3=' N/A', fa4=' N/A', fa5=' N/A', seats_sold=' 60'),\n",
       " '27': PastVoyage(flight_id='27', flight_nr=' NA031', dep_from='KEF', arr_at='LYR', departure=datetime.datetime(2023, 11, 28, 6, 25), arrival=datetime.datetime(2023, 11, 28, 10, 25), aircraft_id='TF-LNQ', captain='2907675667', copilot='2211658134', fsm='1405853585', fa1='1103647756', fa2='1103912131', fa3=' N/A', fa4=' N/A', fa5=' N/A', seats_sold=' 59'),\n",
       " '28': PastVoyage(flight_id='28', flight_nr=' NA032', dep_from='LYR', arr_at='KEF', departure=datetime.datetime(2023, 11, 28, 11, 25), arrival=datetime.datetime(2023, 11, 28, 15, 25), aircraft_id='TF-LNQ', captain='2907675667', copilot='2211658134', fsm='1405853585', fa1='1103647756', fa2='1103912131', fa3=' N/A', fa4=' N/A', fa5=' N/A', seats_sold=' 84'),\n",
       " '29': PastVoyage(flight_id='29', flight_nr=' NA031', dep_from='KEF', arr_at='LYR', departure=datetime.datetime(2023, 11, 30, 5, 23), arrival=datetime.datetime(2023, 11, 30, 9, 23), aircraft_id='TF-IZE', captain='2706838569', copilot='2410876598', fsm='909862878', fa1='1501681497', fa2='2807755841', fa3=' N/A', fa4=' N/A', fa5=' N/A', seats_sold=' 40'),\n",
       " '30': PastVoyage(flight_id='30', flight_nr=' NA032', dep_from='LYR', arr_at='KEF', departure=datetime.datetime(2023, 11, 30, 10, 23), arrival=datetime.datetime(2023, 11, 30, 14, 23), aircraft_id='TF-IZE', captain='2706838569', copilot='2410876598', fsm='909862878', fa1='1501681497', fa2='2807755841', fa3=' N/A', fa4=' N/A', fa5=' N/A', seats_sold=' 57'),\n",
       " '31': PastVoyage(flight_id='31', flight_nr=' NA021', dep_from='KEF', arr_at='GOH', departure=datetime.datetime(2023, 11, 8, 10, 31), arrival=datetime.datetime(2023, 11, 8, 13, 31), aircraft_id='TF-XZM', captain='2907675667', copilot='1900769521', fsm='1308941169', fa1='1811813379', fa2='2701886957', fa3=' N/A', fa4=' N/A', fa5=' N/A', seats_sold=' 87'),\n",
       " '32': PastVoyage(flight_id='32', flight_nr=' NA022', dep_from='GOH', arr_at='KEF', departure=datetime.datetime(2023, 11, 8, 14, 31), arrival=datetime.datetime(2023, 11, 8, 17, 31), aircraft_id='TF-XZM', captain='2907675667', copilot='1900769521', fsm='1308941169', fa1='1811813379', fa2='2701886957', fa3=' N/A', fa4=' N/A', fa5=' N/A', seats_sold=' 65'),\n",
       " '33': PastVoyage(flight_id='33', flight_nr=' NA021', dep_from='KEF', arr_at='GOH', departure=datetime.datetime(2023, 11, 12, 10, 45), arrival=datetime.datetime(2023, 11, 12, 13, 45), aircraft_id='TF-XZR', captain='2907675667', copilot='2211658134', fsm='303758167', fa1='1811813379', fa2='1110732819', fa3=' N/A', fa4=' N/A', fa5=' N/A', seats_sold=' 62'),\n",
       " '34': PastVoyage(flight_id='34', flight_nr=' NA022', dep_from='GOH', arr_at='KEF', departure=datetime.datetime(2023, 11, 12, 14, 45), arrival=datetime.datetime(2023, 11, 12, 17, 45), aircraft_id='TF-XZR', captain='2907675667', copilot='2211658134', fsm='303758167', fa1='1811813379', fa2='1110732819', fa3=' N/A', fa4=' N/A', fa5=' N/A', seats_sold=' 87'),\n",
       " '35': PastVoyage(flight_id='35', flight_nr=' NA021', dep_from='KEF', arr_at='GOH', departure=datetime.datetime(2023, 11, 20, 10, 24), arrival=datetime.datetime(2023, 11, 20, 13, 24), aircraft_id='TF-XUP', captain='2706838569', copilot='2410876598', fsm='303758167', fa1='505942924', fa2='2602806942', fa3=' N/A', fa4=' N/A', fa5=' N/A', seats_sold=' 73'),\n",
       " '36': PastVoyage(flight_id='36', flight_nr=' NA022', dep_from='GOH', arr_at='KEF', departure=datetime.datetime(2023, 11, 20, 14, 24), arrival=datetime.datetime(2023, 11, 20, 17, 24), aircraft_id='TF-XUP', captain='2706838569', copilot='2410876598', fsm='303758167', fa1='505942924', fa2='2602806942', fa3=' N/A', fa4=' N/A', fa5=' N/A', seats_sold=' 65'),\n",
       " '37': PastVoyage(flight_id='37', flight_nr=' NA021', dep_from='KEF', arr_at='GOH', departure=datetime.datetime(2023, 11, 24, 10, 43), arrival=datetime.datetime(2023, 11, 24, 13, 43), aircraft_id='TF-XZR', captain='2209955782', copilot='2211658134', fsm='909862878', fa1='3003962187', fa2='2602806942', fa3=' N/A', fa4=' N/A', fa5=' N/A', seats_sold=' 76'),\n",
       " '38': PastVoyage(flight_id='38', flight_nr=' NA022', dep_from='GOH', arr_at='KEF', departure=datetime.datetime(2023, 11, 24, 14, 43), arrival=datetime.datetime(2023, 11, 24, 17, 43), aircraft_id='TF-XZR', captain='2209955782', copilot='2211658134', fsm='909862878', fa1='3003962187', fa2='2602806942', fa3=' N/A', fa4=' N/A', fa5=' N/A', seats_sold=' 64'),\n",
       " '39': PastVoyage(flight_id='39', flight_nr=' NA021', dep_from='KEF', arr_at='GOH', departure=datetime.datetime(2023, 11, 28, 9, 18), arrival=datetime.datetime(2023, 11, 28, 12, 18), aircraft_id='TF-EPG', captain='2706838569', copilot='2410876598', fsm='909862878', fa1='1501681497', fa2='1701728949', fa3=' N/A', fa4=' N/A', fa5=' N/A', seats_sold=' 87'),\n",
       " '40': PastVoyage(flight_id='40', flight_nr=' NA022', dep_from='GOH', arr_at='KEF', departure=datetime.datetime(2023, 11, 28, 13, 18), arrival=datetime.datetime(2023, 11, 28, 16, 18), aircraft_id='TF-EPG', captain='2706838569', copilot='2410876598', fsm='909862878', fa1='1501681497', fa2='1701728949', fa3=' N/A', fa4=' N/A', fa5=' N/A', seats_sold=' 69'),\n",
       " '41': PastVoyage(flight_id='41', flight_nr=' NA041', dep_from='KEF', arr_at='KUS', departure=datetime.datetime(2023, 11, 6, 14, 31), arrival=datetime.datetime(2023, 11, 6, 16, 31), aircraft_id='TF-UVR', captain='1309797899', copilot='2500812671', fsm='2200763823', fa1='1103912131', fa2='2801645554', fa3=' N/A', fa4=' N/A', fa5=' N/A', seats_sold=' 92'),\n",
       " '42': PastVoyage(flight_id='42', flight_nr=' NA042', dep_from='KUS', arr_at='KEF', departure=datetime.datetime(2023, 11, 6, 17, 31), arrival=datetime.datetime(2023, 11, 6, 19, 31), aircraft_id='TF-UVR', captain='1309797899', copilot='2500812671', fsm='2200763823', fa1='1103912131', fa2='2801645554', fa3=' N/A', fa4=' N/A', fa5=' N/A', seats_sold=' 68'),\n",
       " '43': PastVoyage(flight_id='43', flight_nr=' NA041', dep_from='KEF', arr_at='KUS', departure=datetime.datetime(2023, 11, 30, 13, 22), arrival=datetime.datetime(2023, 11, 30, 15, 22), aircraft_id='TF-XZM', captain='2910858778', copilot='2211658134', fsm='2200763823', fa1='1110732819', fa2='2801645554', fa3=' N/A', fa4=' N/A', fa5=' N/A', seats_sold=' 78'),\n",
       " '44': PastVoyage(flight_id='44', flight_nr=' NA042', dep_from='KUS', arr_at='KEF', departure=datetime.datetime(2023, 11, 30, 16, 22), arrival=datetime.datetime(2023, 11, 30, 18, 22), aircraft_id='TF-XZM', captain='2910858778', copilot='2211658134', fsm='2200763823', fa1='1110732819', fa2='2801645554', fa3=' N/A', fa4=' N/A', fa5=' N/A', seats_sold=' 83'),\n",
       " '45': PastVoyage(flight_id='45', flight_nr=' NA051', dep_from='KEF', arr_at='FAE', departure=datetime.datetime(2023, 11, 18, 0, 0), arrival=datetime.datetime(2023, 11, 18, 1, 0), aircraft_id='TF-LNQ', captain='2209955782', copilot='2504939263', fsm='409858797', fa1='1103912131', fa2='1103912131', fa3=' N/A', fa4=' N/A', fa5=' N/A', seats_sold=' 59'),\n",
       " '46': PastVoyage(flight_id='46', flight_nr=' NA052', dep_from='FAE', arr_at='KEF', departure=datetime.datetime(2023, 11, 18, 2, 0), arrival=datetime.datetime(2023, 11, 18, 3, 0), aircraft_id='TF-LNQ', captain='2209955782', copilot='2504939263', fsm='409858797', fa1='1103912131', fa2='1103912131', fa3=' N/A', fa4=' N/A', fa5=' N/A', seats_sold=' 66'),\n",
       " '47': PastVoyage(flight_id='47', flight_nr=' NA051', dep_from='KEF', arr_at='FAE', departure=datetime.datetime(2023, 11, 30, 0, 0), arrival=datetime.datetime(2023, 11, 30, 1, 0), aircraft_id='TF-UVR', captain='1309797899', copilot='1309927223', fsm='1600904199', fa1='1311772221', fa2='1110732819', fa3=' N/A', fa4=' N/A', fa5=' N/A', seats_sold='80'),\n",
       " '48': PastVoyage(flight_id='48', flight_nr=' NA052', dep_from='FAE', arr_at='KEF', departure=datetime.datetime(2023, 11, 30, 2, 0), arrival=datetime.datetime(2023, 11, 30, 3, 0), aircraft_id='TF-UVR', captain='1309797899', copilot='1309927223', fsm='1600904199', fa1='1311772221', fa2='1110732819', fa3=' N/A', fa4=' N/A', fa5=' N/A', seats_sold=' 76'),\n",
       " '49': PastVoyage(flight_id='49', flight_nr=' NA061', dep_from='KEF', arr_at='LWK', departure=datetime.datetime(2023, 11, 6, 0, 0), arrival=datetime.datetime(2023, 11, 6, 2, 0), aircraft_id='TF-TYQ', captain='3009907461', copilot='2410876598', fsm='1405853585', fa1='2602806942', fa2='2509913418', fa3=' N/A', fa4=' N/A', fa5=' N/A', seats_sold=' 82'),\n",
       " '50': PastVoyage(flight_id='50', flight_nr=' NA062', dep_from='LWK', arr_at='KEF', departure=datetime.datetime(2023, 11, 6, 3, 0), arrival=datetime.datetime(2023, 11, 6, 5, 0), aircraft_id='TF-TYQ', captain='3009907461', copilot='2410876598', fsm='1405853585', fa1='2602806942', fa2='2509913418', fa3=' N/A', fa4=' N/A', fa5=' N/A', seats_sold=' 68'),\n",
       " '51': PastVoyage(flight_id='51', flight_nr=' NA061', dep_from='KEF', arr_at='LWK', departure=datetime.datetime(2023, 11, 24, 0, 0), arrival=datetime.datetime(2023, 11, 24, 2, 0), aircraft_id='TF-PGK', captain='2907675667', copilot='1900769521', fsm='1811931544', fa1='1107951952', fa2='2509913418', fa3=' N/A', fa4=' N/A', fa5=' N/A', seats_sold=' 74'),\n",
       " '52': PastVoyage(flight_id='52', flight_nr=' NA062', dep_from='LWK', arr_at='KEF', departure=datetime.datetime(2023, 11, 24, 3, 0), arrival=datetime.datetime(2023, 11, 24, 5, 0), aircraft_id='TF-PGK', captain='2907675667', copilot='1900769521', fsm='1811931544', fa1='1107951952', fa2='2509913418', fa3=' N/A', fa4=' N/A', fa5=' N/A', seats_sold=' 64')}"
      ]
     },
     "execution_count": 12,
     "metadata": {},
     "output_type": "execute_result"
    }
   ],
   "source": [
    "all_voyages"
   ]
  },
  {
   "cell_type": "code",
   "execution_count": null,
   "metadata": {},
   "outputs": [],
   "source": []
  }
 ],
 "metadata": {
  "kernelspec": {
   "display_name": "Python 3",
   "language": "python",
   "name": "python3"
  },
  "language_info": {
   "codemirror_mode": {
    "name": "ipython",
    "version": 3
   },
   "file_extension": ".py",
   "mimetype": "text/x-python",
   "name": "python",
   "nbconvert_exporter": "python",
   "pygments_lexer": "ipython3",
   "version": "3.11.3"
  }
 },
 "nbformat": 4,
 "nbformat_minor": 2
}
