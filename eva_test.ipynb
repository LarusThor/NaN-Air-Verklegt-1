{
 "cells": [
  {
   "cell_type": "code",
   "execution_count": 1,
   "metadata": {},
   "outputs": [],
   "source": [
    "from logic.employeeLL import EmployeeLL\n",
    "from model.employee_model import Employee\n",
    "from logic.destinationLL import DestinationLL\n",
    "from model.past_voyage_model import PastVoyage\n",
    "from logic.past_voyageLL import PastVoyageLL\n",
    "from logic.scheduleLL import ScheduleLL\n",
    "from logic.airplaneLL import AirplaneLL\n",
    "from datetime import datetime, date\n",
    "from logic.LogicWrapper import LogicWrapper\n",
    "\n",
    "\n",
    "logic_wrapper = LogicWrapper()"
   ]
  },
  {
   "cell_type": "code",
   "execution_count": 2,
   "metadata": {},
   "outputs": [
    {
     "data": {
      "text/plain": [
       "datetime.date(2023, 12, 20)"
      ]
     },
     "execution_count": 2,
     "metadata": {},
     "output_type": "execute_result"
    }
   ],
   "source": [
    "dt = date(year=2023,month=12,day=20)\n",
    "dt"
   ]
  },
  {
   "cell_type": "code",
   "execution_count": 4,
   "metadata": {},
   "outputs": [
    {
     "data": {
      "text/plain": [
       "[Employee(name='Maribel Lucero', social_id='1311772221', role='Cabincrew', rank='Flight Attendant', licence='N/A', email=' oracle@optonline.net', phonenumber='8998823', home_address='Fellsmúli 23', landline=' N/A'),\n",
       " Employee(name='Virginia Ho', social_id='2910858778', role='Pilot', rank='Captain', licence='NABAE146', email=' matthijs@att.net', phonenumber='8998802', home_address='Fellsmúli 2', landline=' 5205511'),\n",
       " Employee(name='Charla Johnson', social_id='2211658134', role='Pilot', rank='Copilot', licence='NABAE146', email=' agapow@msn.com', phonenumber='8998808', home_address='Fellsmúli 8', landline=' 9164224'),\n",
       " Employee(name='test', social_id='shshdjj', role='1', rank='1', licence='1', email='tset', phonenumber='test', home_address='test', landline='seys'),\n",
       " Employee(name='Patricia Bates', social_id='1309927223', role='Pilot', rank='Copilot', licence='NAFokkerF28', email=' rtanter@live.com', phonenumber='8998812', home_address='Fellsmúli 12', landline=' N/A'),\n",
       " Employee(name='Abraham Superman', social_id='1501681497', role='Cabincrew', rank='Flight Attendant', licence='N/A', email=' syncnine@outlook.com', phonenumber='8998830', home_address='Fellsmúli 30', landline=' N/A'),\n",
       " Employee(name='Jacob Blecha', social_id='1308941169', role='Cabincrew', rank='Flight Service Manager', licence='N/A', email=' laird@msn.com', phonenumber='8998816', home_address='Fellsmúli 16', landline=' N/A'),\n",
       " Employee(name='Wilma Horne', social_id='1103647756', role='Cabincrew', rank='Flight Attendant', licence='N/A', email=' okroeger@msn.com', phonenumber='8998825', home_address='Fellsmúli 25', landline=' N/A'),\n",
       " Employee(name='Sam Preciado', social_id='2504939263', role='Pilot', rank='Copilot', licence='NABAE146', email=' dimensio@aol.com', phonenumber='8998809', home_address='Fellsmúli 9', landline=' N/A'),\n",
       " Employee(name='Stacey Henrickson', social_id='3002688722', role='Cabincrew', rank='Flight Attendant', licence='N/A', email=' afifi@live.com', phonenumber='8998821', home_address='Fellsmúli 21', landline=' N/A'),\n",
       " Employee(name='Arthur Karr', social_id='1110732819', role='Cabincrew', rank='Flight Attendant', licence='N/A', email=' sethbrown@msn.com', phonenumber='8998833', home_address='Fellsmúli 33', landline=' N/A'),\n",
       " Employee(name='Felecia Moye', social_id='2907675667', role='Pilot', rank='Captain', licence='NABAE146', email=' larry@sbcglobal.net', phonenumber='8998805', home_address='Fellsmúli 5', landline=' 6976355'),\n",
       " Employee(name='Evelyn Pickhardt', social_id='1409858797', role='Cabincrew', rank='Flight Service Manager', licence='N/A', email=' aprakash@yahoo.ca', phonenumber='8998820', home_address='Fellsmúli 20', landline=' N/A'),\n",
       " Employee(name='Franko Sinatra', social_id='2209955782', role='Pilot', rank='Captain', licence='NABAE146', email=' fmtbebuck@yahoo.com', phonenumber='8998804', home_address='Fellsmúli 4', landline=' 9823458'),\n",
       " Employee(name='Gerard Norris', social_id='2706838569', role='Pilot', rank='Captain', licence='NAFokkerF100', email=' farber@gmail.com', phonenumber='8998803', home_address='Fellsmúli 3', landline=' 9114690'),\n",
       " Employee(name='Margarita Fischer', social_id='1303758167', role='Cabincrew', rank='Flight Service Manager', licence='N/A', email=' psharpe@hotmail.com', phonenumber='8998814', home_address='Fellsmúli 14', landline=' N/A'),\n",
       " Employee(name='John Kline', social_id='1811931544', role='Cabincrew', rank='Flight Service Manager', licence='N/A', email=' frostman@me.com', phonenumber='8998819', home_address='Fellsmúli 19', landline=' N/A'),\n",
       " Employee(name='Sherry Walker', social_id='1600904199', role='Cabincrew', rank='Flight Service Manager', licence='N/A', email=' danzigism@comcast.net', phonenumber='8998813', home_address='Fellsmúli 13', landline=' N/A'),\n",
       " Employee(name='Bernard Carr', social_id='2807755841', role='Cabincrew', rank='Flight Attendant', licence='N/A', email=' duncand@outlook.com', phonenumber='8998826', home_address='Fellsmúli 26', landline=' N/A'),\n",
       " Employee(name='Carlton Chan', social_id='1505942924', role='Cabincrew', rank='Flight Attendant', licence='N/A', email=' arandal@aol.com', phonenumber='8998832', home_address='Fellsmúli 32', landline=' N/A'),\n",
       " Employee(name='Melissa Paquette', social_id='1811813379', role='Cabincrew', rank='Flight Attendant', licence='N/A', email=' mosses@live.com', phonenumber='8998831', home_address='Fellsmúli 31', landline=' N/A'),\n",
       " Employee(name='Katherine Wernimont', social_id='2509913418', role='Cabincrew', rank='Flight Attendant', licence='N/A', email=' tattooman@optonline.net', phonenumber='8998824', home_address='Fellsmúli 24', landline=' N/A'),\n",
       " Employee(name='Richard Sanders', social_id='1909862878', role='Cabincrew', rank='Flight Service Manager', licence='N/A', email=' srour@aol.com', phonenumber='8998818', home_address='Fellsmúli 18', landline=' N/A'),\n",
       " Employee(name='Teresa Thruman', social_id='2602806942', role='Cabincrew', rank='Flight Attendant', licence='N/A', email=' hermanab@live.com', phonenumber='8998834', home_address='Fellsmúli 34', landline=' N/A'),\n",
       " Employee(name='Delores Whitfield', social_id='3003962187', role='Cabincrew', rank='Flight Attendant', licence='N/A', email=' bcevc@gmail.com', phonenumber='8998822', home_address='Fellsmúli 22', landline=' N/A'),\n",
       " Employee(name='Elizabeth Mcfadden', social_id='1107951952', role='Cabincrew', rank='Flight Attendant', licence='N/A', email=' yfreund@sbcglobal.net', phonenumber='8998835', home_address='Fellsmúli 35', landline=' N/A'),\n",
       " Employee(name='Jasmine Hagadone', social_id='1900769521', role='Pilot', rank='Copilot', licence='NABAE146', email=' rattenbt@yahoo.ca', phonenumber='8998810', home_address='Fellsmúli 10', landline=' N/A')]"
      ]
     },
     "execution_count": 4,
     "metadata": {},
     "output_type": "execute_result"
    }
   ],
   "source": [
    "\n",
    "emps = logic_wrapper.employee_not_working(dt)\n",
    "emps"
   ]
  },
  {
   "cell_type": "code",
   "execution_count": 5,
   "metadata": {},
   "outputs": [
    {
     "data": {
      "text/plain": [
       "['Maribel Lucero',\n",
       " 'Virginia Ho',\n",
       " 'Charla Johnson',\n",
       " 'test',\n",
       " 'Patricia Bates',\n",
       " 'Abraham Superman',\n",
       " 'Jacob Blecha',\n",
       " 'Wilma Horne',\n",
       " 'Sam Preciado',\n",
       " 'Stacey Henrickson',\n",
       " 'Arthur Karr',\n",
       " 'Felecia Moye',\n",
       " 'Evelyn Pickhardt',\n",
       " 'Franko Sinatra',\n",
       " 'Gerard Norris',\n",
       " 'Margarita Fischer',\n",
       " 'John Kline',\n",
       " 'Sherry Walker',\n",
       " 'Bernard Carr',\n",
       " 'Carlton Chan',\n",
       " 'Melissa Paquette',\n",
       " 'Katherine Wernimont',\n",
       " 'Richard Sanders',\n",
       " 'Teresa Thruman',\n",
       " 'Delores Whitfield',\n",
       " 'Elizabeth Mcfadden',\n",
       " 'Jasmine Hagadone']"
      ]
     },
     "execution_count": 5,
     "metadata": {},
     "output_type": "execute_result"
    }
   ],
   "source": [
    "[emp.name for emp in emps]"
   ]
  },
  {
   "cell_type": "code",
   "execution_count": null,
   "metadata": {},
   "outputs": [],
   "source": []
  }
 ],
 "metadata": {
  "kernelspec": {
   "display_name": "Python 3",
   "language": "python",
   "name": "python3"
  },
  "language_info": {
   "codemirror_mode": {
    "name": "ipython",
    "version": 3
   },
   "file_extension": ".py",
   "mimetype": "text/x-python",
   "name": "python",
   "nbconvert_exporter": "python",
   "pygments_lexer": "ipython3",
   "version": "3.11.3"
  }
 },
 "nbformat": 4,
 "nbformat_minor": 2
}
